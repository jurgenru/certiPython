{
 "cells": [
  {
   "cell_type": "markdown",
   "metadata": {},
   "source": [
    "### 1 \n",
    "Escribir un programa que determine si el año es bisiesto. Un año es bisiesto si es\n",
    "múltiplo de 4 (1988), excepto los múltiplos de 100 que no son bisiestos salvo que a su\n",
    "vez también sean múltiplos de 400 (1800no es bisiesto, 2000 sí)."
   ]
  },
  {
   "cell_type": "code",
   "execution_count": 1,
   "metadata": {},
   "outputs": [
    {
     "name": "stdout",
     "output_type": "stream",
     "text": [
      "ingresa año\n",
      "2020\n",
      "El año 2020 Si es bisiesto \n"
     ]
    }
   ],
   "source": [
    "a=int(input(\"ingresa año\\n\"))\n",
    "if(a % 4 == 0 and a % 100 != 0 or a % 400 == 0):\n",
    " print(\"El año \"+str(a)+\" Si es bisiesto \")\n",
    "else:\n",
    " print(\"El año \"+str(a)+\" No es bisiesto \")"
   ]
  },
  {
   "cell_type": "markdown",
   "metadata": {},
   "source": [
    "### 2\n",
    "Dado los valores de A, B, C que son los coeficientes de la ecuación de segundo grado,\n",
    "hallar sus raíces reales, desplegar los resultados."
   ]
  },
  {
   "cell_type": "code",
   "execution_count": 4,
   "metadata": {},
   "outputs": [
    {
     "name": "stdout",
     "output_type": "stream",
     "text": [
      "Numero cuadratica: 2\n",
      "Numero lineal: 5\n",
      "Numero normal: 3\n",
      "-1.0 -1.5\n"
     ]
    }
   ],
   "source": [
    "from math import sqrt\n",
    "A = int(input(\"Numero cuadratica: \"))\n",
    "B = int(input(\"Numero lineal: \"))\n",
    "C = int(input(\"Numero normal: \"))\n",
    "x1 = 0\n",
    "x2 = 0\n",
    "\n",
    "if ((B**2)-4*A*C) < 0:\n",
    "    print(\"Los numeros se responen con numeros complejos\")\n",
    "else: \n",
    "    x1 = (-B+sqrt(B**2-(4*A*C)))/(2*A)\n",
    "    x2 = (-B-sqrt(B**2-(4*A*C)))/(2*A)\n",
    "    print(x1, x2)"
   ]
  },
  {
   "cell_type": "markdown",
   "metadata": {},
   "source": [
    "### 3 \n",
    "Dado dos valores A y B, realizar el producto de los dos números por sumas sucesivas,\n",
    "almacenar el resultado en una variable P, mostrar el resultado."
   ]
  },
  {
   "cell_type": "code",
   "execution_count": 5,
   "metadata": {},
   "outputs": [
    {
     "name": "stdout",
     "output_type": "stream",
     "text": [
      "Escribe el primer numero entero: 1\n",
      "Escribe el segundo numero entero: 1\n"
     ]
    }
   ],
   "source": [
    "A = int(input(\"Escribe el primer numero entero: \"))\n",
    "B = int(input(\"Escribe el segundo numero entero: \"))\n",
    "P = 1\n",
    "\n"
   ]
  },
  {
   "cell_type": "markdown",
   "metadata": {},
   "source": [
    "### 4 \n",
    "Dado un número X, determinar el número de dígitos del que esta compuesto y\n",
    "desplegar el resultado."
   ]
  },
  {
   "cell_type": "code",
   "execution_count": 30,
   "metadata": {},
   "outputs": [
    {
     "ename": "IndentationError",
     "evalue": "expected an indented block (<ipython-input-30-2417e9e5c039>, line 3)",
     "output_type": "error",
     "traceback": [
      "\u001b[0;36m  File \u001b[0;32m\"<ipython-input-30-2417e9e5c039>\"\u001b[0;36m, line \u001b[0;32m3\u001b[0m\n\u001b[0;31m    res = [int(x) for x in str(numero)]\u001b[0m\n\u001b[0m      ^\u001b[0m\n\u001b[0;31mIndentationError\u001b[0m\u001b[0;31m:\u001b[0m expected an indented block\n"
     ]
    }
   ],
   "source": [
    "numero = int(input(\"Que numero: \"))\n",
    "res = [int(x) for x in str(numero)]\n",
    "print(\"Esta compuesto por: \" + str(len(res)))\n",
    "print(\"Los numeros son: \" + str(res))"
   ]
  },
  {
   "cell_type": "markdown",
   "metadata": {},
   "source": [
    "### 5\n",
    "Escribir un programa que calcule y visualice el más grande, el más pequeño y la media\n",
    "de N números. El valor de N se solicitará al principio del programa y los números\n",
    "serán introducidos por el usuario."
   ]
  },
  {
   "cell_type": "code",
   "execution_count": 29,
   "metadata": {},
   "outputs": [
    {
     "name": "stdout",
     "output_type": "stream",
     "text": [
      "Entre que numero vamos a realizar la operacion 2\n",
      "Otro numero: 1\n",
      "Escriba el número 2: 2\n",
      "El numero minimo es el 1\n",
      "El numero maximo es el 2\n",
      "La media entre los numeros es de 1.5\n"
     ]
    }
   ],
   "source": [
    "numero = int(input(\"Entre que numero vamos a realizar la operacion \"))\n",
    "if numero <= 0:\n",
    "    print(\"No se puede\")\n",
    "else: \n",
    "    valor = int(input(\"Otro numero: \"))\n",
    "    minimo = maximo = suma = valor\n",
    "    for i in range(2, numero + 1):\n",
    "        valor = int(input(f\"Escriba el número {i}: \"))\n",
    "        suma = suma + valor\n",
    "        if valor < minimo:\n",
    "            minimo = valor\n",
    "        if valor > maximo:\n",
    "            maximo = valor\n",
    "    print(f\"El numero minimo es el {minimo}\")\n",
    "    print(f\"El numero maximo es el {maximo}\")\n",
    "    print(f\"La media entre los numeros es de {suma/numero}\")"
   ]
  },
  {
   "cell_type": "markdown",
   "metadata": {},
   "source": [
    "### 6 \n",
    "Dado dos números A y B enteros mayores a cero, hallar A^B por sumas. Desplegar los\n",
    "números y el resultado."
   ]
  },
  {
   "cell_type": "code",
   "execution_count": 17,
   "metadata": {},
   "outputs": [
    {
     "name": "stdout",
     "output_type": "stream",
     "text": [
      "Escriba un numero: 3\n",
      "Escriba a que potencia: 7\n",
      "{2187}\n"
     ]
    }
   ],
   "source": [
    "A = int(input(\"Escriba un numero: \"))\n",
    "B = int(input(\"Escriba a que potencia: \"))\n",
    "C = int(1)\n",
    "while B != 0: \n",
    "        C = C * A\n",
    "        B = B - 1\n",
    "        \n",
    "print({C})"
   ]
  },
  {
   "cell_type": "markdown",
   "metadata": {},
   "source": [
    "### 7\n",
    "La constante pi (3.1441592...) es muy utilizada en matemáticas. Un método sencillo\n",
    "de calcular su valor es:\n",
    "\n",
    "Escribir un programa que efectúe este cálculo con un número de términos\n",
    "especificando por el usuario."
   ]
  },
  {
   "cell_type": "code",
   "execution_count": 18,
   "metadata": {},
   "outputs": [
    {
     "name": "stdout",
     "output_type": "stream",
     "text": [
      "Escribe con que numero quiers efectuar la formula: 2\n"
     ]
    }
   ],
   "source": [
    "numero = int(input(\"Escribe con que numero quiers efectuar la formula: \"))\n"
   ]
  },
  {
   "cell_type": "markdown",
   "metadata": {},
   "source": [
    "### 8\n",
    "El valor de e^x se puede aproximar por la suma\n",
    "Escribir un programa que tome un valor de x como entrada y visualice la suma para\n",
    "cada uno de los valores de 1 a 100."
   ]
  },
  {
   "cell_type": "code",
   "execution_count": 1,
   "metadata": {},
   "outputs": [
    {
     "name": "stdout",
     "output_type": "stream",
     "text": [
      "Digite un numero: 2\n",
      "Digite otro numero: 5\n",
      "18.07\n"
     ]
    }
   ],
   "source": [
    "x = int(input(\"Digite un numero: \"))\n",
    "n = int(input(\"Digite otro numero: \"))\n",
    "def SUM(x, n): \n",
    "    total = 1\n",
    "    for i in range(1, n + 1): \n",
    "        total = total + ((x**i)/i) \n",
    "    return total  \n",
    "s = SUM(x, n) \n",
    "print(round(s, 2))"
   ]
  },
  {
   "cell_type": "markdown",
   "metadata": {},
   "source": [
    "### 9\n",
    "Calcular la suma de todos los elementos de un vector, así como la media aritmética"
   ]
  },
  {
   "cell_type": "code",
   "execution_count": 4,
   "metadata": {},
   "outputs": [
    {
     "name": "stdout",
     "output_type": "stream",
     "text": [
      "286\n",
      "Average of the list = 35.75\n"
     ]
    }
   ],
   "source": [
    "def Average(lst): \n",
    "    return sum(lst) / len(lst) \n",
    "\n",
    "lst = [15, 9, 55, 41, 35, 20, 62, 49] \n",
    "average = Average(lst) \n",
    "  \n",
    "print(sum(lst))\n",
    "print(\"Average of the list =\", round(average, 2))"
   ]
  },
  {
   "cell_type": "markdown",
   "metadata": {},
   "source": [
    "### 10\n",
    "Multiplicar dos matrices"
   ]
  },
  {
   "cell_type": "code",
   "execution_count": null,
   "metadata": {},
   "outputs": [
    {
     "name": "stdout",
     "output_type": "stream",
     "text": [
      "Escribe la cantidad de filas que quieres de la matriz 1: 2\n",
      "Escribe la cantidad de columnas que quieres de la matriz 1: 3\n",
      "Escribe la cantidad de columnas que quieres de la matriz 2: 2\n",
      "Que valor quiere que tenga (00): 1\n",
      "Que valor quiere que tenga (01): 2\n",
      "Que valor quiere que tenga (02): -3\n",
      "Que valor quiere que tenga (10): 4\n",
      "Que valor quiere que tenga (11): 0\n",
      "Que valor quiere que tenga (12): -2\n",
      "[1.0, 2.0, -3.0]\n",
      "[4.0, 0.0, -2.0]\n"
     ]
    }
   ],
   "source": [
    "fila1 = int(input(\"Escribe la cantidad de filas que quieres de la matriz 1: \"))\n",
    "columna1 = int(input(\"Escribe la cantidad de columnas que quieres de la matriz 1: \"))\n",
    "columna2 = int(input(\"Escribe la cantidad de columnas que quieres de la matriz 2: \"))\n",
    "\n",
    "A = []\n",
    "for i in range(fila1):\n",
    "    A.append([0]*columna1)\n",
    "    \n",
    "for i in range(fila1):\n",
    "    for j in range(columna1):\n",
    "        A[i][j]=float((input(\"Que valor quiere que tenga (%d%d): \" % (i,j))))    \n",
    "\n",
    "for i in range(fila1):\n",
    "    print(A[i])\n",
    "\n",
    "B = []\n",
    "for i in range(columna1):\n",
    "    B.append([0]*columna2)\n",
    "\n",
    "for i in range(columna1):\n",
    "    for j in range(columna2):\n",
    "        B[i][j]=float((input(\"Que valor quiere que tenga (%d%d): \" % (i,j))))    \n",
    "    \n",
    "for i in range(columna1):\n",
    "    print(B[i])\n",
    "\n",
    "C = []\n",
    "for i in range(fila1):\n",
    "    C.append([0]*columna2)\n",
    "\n",
    "for i in range(fila1):\n",
    "    print(C[i])\n",
    "\n",
    "for i in range(fila1):\n",
    "    for j in range(columna2):\n",
    "        for k in range(columna1):\n",
    "            C[i][j] += A[i][k] * B[k][j]\n",
    "\n",
    "for i in range(fila1):\n",
    "    R = []\n",
    "    for j in range(columna2):\n",
    "        R.append(C[i][j])\n",
    "    print(R)"
   ]
  },
  {
   "cell_type": "code",
   "execution_count": null,
   "metadata": {},
   "outputs": [],
   "source": []
  }
 ],
 "metadata": {
  "kernelspec": {
   "display_name": "Python 3",
   "language": "python",
   "name": "python3"
  },
  "language_info": {
   "codemirror_mode": {
    "name": "ipython",
    "version": 3
   },
   "file_extension": ".py",
   "mimetype": "text/x-python",
   "name": "python",
   "nbconvert_exporter": "python",
   "pygments_lexer": "ipython3",
   "version": "3.7.4"
  }
 },
 "nbformat": 4,
 "nbformat_minor": 2
}
